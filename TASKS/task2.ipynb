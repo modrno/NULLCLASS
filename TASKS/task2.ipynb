{
  "nbformat": 4,
  "nbformat_minor": 0,
  "metadata": {
    "colab": {
      "private_outputs": true,
      "provenance": []
    },
    "kernelspec": {
      "name": "python3",
      "display_name": "Python 3"
    },
    "language_info": {
      "name": "python"
    }
  },
  "cells": [
    {
      "cell_type": "markdown",
      "source": [
        "**French to Tamil Translation with Word2Vec**"
      ],
      "metadata": {
        "id": "EemiiDufXEIn"
      }
    },
    {
      "cell_type": "code",
      "source": [
        "!pip install gensim gradio"
      ],
      "metadata": {
        "id": "eycrgvhzSGiQ"
      },
      "execution_count": null,
      "outputs": []
    },
    {
      "cell_type": "code",
      "execution_count": null,
      "metadata": {
        "id": "BDCjhZHXRb6s"
      },
      "outputs": [],
      "source": [
        "import gradio as gr\n",
        "from transformers import AutoTokenizer, AutoModelForSeq2SeqLM\n",
        "import torch\n",
        "from gensim.models import Word2Vec\n",
        "import numpy as np\n",
        "\n",
        "# Load pre-trained models and tokenizers\n",
        "fr_en_tokenizer = AutoTokenizer.from_pretrained(\"Helsinki-NLP/opus-mt-fr-en\")\n",
        "fr_en_model = AutoModelForSeq2SeqLM.from_pretrained(\"Helsinki-NLP/opus-mt-fr-en\")\n",
        "\n",
        "en_ta_tokenizer = AutoTokenizer.from_pretrained(\"suriya7/English-to-Tamil\")\n",
        "en_ta_model = AutoModelForSeq2SeqLM.from_pretrained(\"suriya7/English-to-Tamil\")\n",
        "\n",
        "# Load Word2Vec model (you should have a trained Word2Vec model saved)\n",
        "# Assuming you have a trained Word2Vec model in your environment\n",
        "# If not, you'll need to train it or load a pre-trained one.\n",
        "# Here, I'm creating a sample Word2Vec model for demonstration purposes.\n",
        "# Replace this with your actual Word2Vec model.\n",
        "\n",
        "# Sample training data\n",
        "sentences = [['bonjour', 'monde'], ['au revoir', 'monde'], ['salut', 'comment', 'ca', 'va']]\n",
        "word2vec_model = Word2Vec(sentences, vector_size=100, window=5, min_count=1, workers=4)\n",
        "\n",
        "# Function to get similar words using Word2Vec\n",
        "def get_similar_words(word, model, top_n=5):\n",
        "    if word in model.wv:\n",
        "        similar_words = model.wv.most_similar(word, topn=top_n)\n",
        "        return [w[0] for w in similar_words]\n",
        "    else:\n",
        "        return []\n",
        "\n",
        "# Function to translate French to English\n",
        "def translate_fr_to_en(french_text):\n",
        "    inputs = fr_en_tokenizer(french_text, return_tensors=\"pt\", padding=True, truncation=True)\n",
        "    with torch.no_grad():\n",
        "        translated_ids = fr_en_model.generate(**inputs)\n",
        "    english_translation = fr_en_tokenizer.decode(translated_ids[0], skip_special_tokens=True)\n",
        "    return english_translation\n",
        "\n",
        "# Function to translate English to Tamil\n",
        "def translate_en_to_ta(english_text):\n",
        "    inputs = en_ta_tokenizer(english_text, return_tensors=\"pt\", padding=True, truncation=True)\n",
        "    with torch.no_grad():\n",
        "        translated_ids = en_ta_model.generate(**inputs)\n",
        "    tamil_translation = en_ta_tokenizer.decode(translated_ids[0], skip_special_tokens=True)\n",
        "    return tamil_translation\n",
        "\n",
        "# Main function to handle translation from French to Tamil via English\n",
        "def translate_french_to_tamil(french_word):\n",
        "    english_translation = translate_fr_to_en(french_word)\n",
        "    if english_translation.strip() == \"\":  # Check if translation is empty\n",
        "        similar_words = get_similar_words(french_word, word2vec_model)\n",
        "        if similar_words:\n",
        "            # If no direct translation, use a similar word\n",
        "            english_translation = translate_fr_to_en(similar_words[0])  # Use the first similar word\n",
        "        else:\n",
        "            return \"No suitable translation found.\", \"\"\n",
        "\n",
        "    tamil_translation = translate_en_to_ta(english_translation)\n",
        "    return english_translation, tamil_translation\n",
        "\n",
        "# Create Gradio interface\n",
        "iface = gr.Interface(fn=translate_french_to_tamil,\n",
        "                     inputs=\"text\",\n",
        "                     outputs=[\"text\", \"text\"],\n",
        "                     title=\"French to Tamil Translation with Word2Vec\",\n",
        "                     description=\"Enter a French word to translate it to English and then to Tamil.\")\n",
        "\n",
        "# Launch the Gradio app\n",
        "iface.launch()\n"
      ]
    },
    {
      "cell_type": "code",
      "source": [],
      "metadata": {
        "id": "BWl48esbT2Gx"
      },
      "execution_count": null,
      "outputs": []
    }
  ]
}