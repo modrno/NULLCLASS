{
  "nbformat": 4,
  "nbformat_minor": 0,
  "metadata": {
    "colab": {
      "private_outputs": true,
      "provenance": [],
      "gpuType": "T4"
    },
    "kernelspec": {
      "name": "python3",
      "display_name": "Python 3"
    },
    "language_info": {
      "name": "python"
    },
    "accelerator": "GPU"
  },
  "cells": [
    {
      "cell_type": "markdown",
      "source": [
        "**Translate only 10-letter English words and translate them into both French and Hindi at the same time.**"
      ],
      "metadata": {
        "id": "ekL5dxTIWqHc"
      }
    },
    {
      "cell_type": "code",
      "source": [
        "!pip install gradio transformers torch sentencepiece"
      ],
      "metadata": {
        "id": "ERBeLFplVLPE"
      },
      "execution_count": null,
      "outputs": []
    },
    {
      "cell_type": "code",
      "source": [
        "!pip install --upgrade gradio"
      ],
      "metadata": {
        "id": "Gk8Rm78pVrTE"
      },
      "execution_count": null,
      "outputs": []
    },
    {
      "cell_type": "code",
      "source": [
        "import gradio as gr\n",
        "from transformers import MarianMTModel, MarianTokenizer\n",
        "\n",
        "# Load pre-trained models for English to French and English to Hindi\n",
        "model_name_fr = 'Helsinki-NLP/opus-mt-en-fr'\n",
        "model_name_hi = 'Helsinki-NLP/opus-mt-en-hi'\n",
        "\n",
        "# Load models and tokenizers with error handling\n",
        "try:\n",
        "    tokenizer_fr = MarianTokenizer.from_pretrained(model_name_fr)\n",
        "    model_fr = MarianMTModel.from_pretrained(model_name_fr)\n",
        "\n",
        "    tokenizer_hi = MarianTokenizer.from_pretrained(model_name_hi)\n",
        "    model_hi = MarianMTModel.from_pretrained(model_name_hi)\n",
        "\n",
        "except Exception as e:\n",
        "    print(f\"Error loading models: {e}\")\n",
        "\n",
        "# Function to translate English to French and Hindi\n",
        "def translate_english_to_french_and_hindi(word):\n",
        "    try:\n",
        "        if len(word) == 10:  # Checking if the word has exactly 10 letters\n",
        "            # Translate to French\n",
        "            inputs_fr = tokenizer_fr(word, return_tensors=\"pt\", padding=True)\n",
        "            translated_tokens_fr = model_fr.generate(**inputs_fr)\n",
        "            french_translation = tokenizer_fr.decode(translated_tokens_fr[0], skip_special_tokens=True)\n",
        "\n",
        "            # Translate to Hindi\n",
        "            inputs_hi = tokenizer_hi(word, return_tensors=\"pt\", padding=True)\n",
        "            translated_tokens_hi = model_hi.generate(**inputs_hi)\n",
        "            hindi_translation = tokenizer_hi.decode(translated_tokens_hi[0], skip_special_tokens=True)\n",
        "\n",
        "            return f\"French: {french_translation}\\nHindi: {hindi_translation}\"\n",
        "        else:\n",
        "            return \"This model only translates 10-letter English words.\"\n",
        "\n",
        "    except Exception as e:\n",
        "        return f\"Error during translation: {e}\"\n",
        "\n",
        "# Gradio interface function\n",
        "def gradio_interface(word):\n",
        "    result = translate_english_to_french_and_hindi(word)\n",
        "    return result\n",
        "\n",
        "# Create Gradio interface\n",
        "interface = gr.Interface(\n",
        "    fn=gradio_interface,\n",
        "    inputs=gr.Textbox(lines=1, placeholder=\"Enter a 10-letter English word\"),\n",
        "    outputs=\"text\",\n",
        "    title=\"Translate English to French and Hindi\",\n",
        "    description=\"Enter a 10-letter English word and get its translation in French and Hindi.\",\n",
        ")\n",
        "\n",
        "# Launch the interface\n",
        "interface.launch()\n"
      ],
      "metadata": {
        "id": "80StgL-JVMoF"
      },
      "execution_count": null,
      "outputs": []
    },
    {
      "cell_type": "code",
      "source": [],
      "metadata": {
        "id": "yWakVl6vVYQi"
      },
      "execution_count": null,
      "outputs": []
    },
    {
      "cell_type": "markdown",
      "source": [],
      "metadata": {
        "id": "Cj6PdDabWooz"
      }
    }
  ]
}