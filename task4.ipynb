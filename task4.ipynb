{
  "nbformat": 4,
  "nbformat_minor": 0,
  "metadata": {
    "colab": {
      "private_outputs": true,
      "provenance": []
    },
    "kernelspec": {
      "name": "python3",
      "display_name": "Python 3"
    },
    "language_info": {
      "name": "python"
    }
  },
  "cells": [
    {
      "cell_type": "markdown",
      "source": [
        "**Beam Search Decoding**"
      ],
      "metadata": {
        "id": "x_KTZRjknyLu"
      }
    },
    {
      "cell_type": "code",
      "execution_count": null,
      "metadata": {
        "id": "PKV61IUYmPg5"
      },
      "outputs": [],
      "source": [
        "!pip install transformers torch"
      ]
    },
    {
      "cell_type": "code",
      "source": [
        "import torch\n",
        "from transformers import MarianMTModel, MarianTokenizer\n",
        "\n",
        "# Load pre-trained model and tokenizer for English to Hindi\n",
        "model_name_hi = 'Helsinki-NLP/opus-mt-en-hi'\n",
        "tokenizer_hi = MarianTokenizer.from_pretrained(model_name_hi)\n",
        "model_hi = MarianMTModel.from_pretrained(model_name_hi)\n",
        "\n",
        "def beam_search_decode(input_text, beam_size=5, max_length=50):\n",
        "    # Tokenize the input\n",
        "    inputs = tokenizer_hi(input_text, return_tensors=\"pt\", padding=True)\n",
        "\n",
        "    # Generate translation using Beam Search\n",
        "    with torch.no_grad():\n",
        "        outputs = model_hi.generate(\n",
        "            **inputs,\n",
        "            num_beams=beam_size,\n",
        "            max_length=max_length,\n",
        "            early_stopping=True,\n",
        "            no_repeat_ngram_size=2,  # Prevents repeating phrases\n",
        "        )\n",
        "\n",
        "    # Decode the generated tokens to text\n",
        "    decoded_output = tokenizer_hi.decode(outputs[0], skip_special_tokens=True)\n",
        "    return decoded_output\n",
        "\n",
        "# Example usage\n",
        "if __name__ == \"__main__\":\n",
        "    input_text = \"Hello, how are you?\"\n",
        "    translated_text = beam_search_decode(input_text, beam_size=5)\n",
        "    print(f\"Translated Text: {translated_text}\")\n"
      ],
      "metadata": {
        "id": "lJntI4o8mbJD"
      },
      "execution_count": null,
      "outputs": []
    },
    {
      "cell_type": "code",
      "source": [],
      "metadata": {
        "id": "QpdV-uLwmfGL"
      },
      "execution_count": null,
      "outputs": []
    }
  ]
}